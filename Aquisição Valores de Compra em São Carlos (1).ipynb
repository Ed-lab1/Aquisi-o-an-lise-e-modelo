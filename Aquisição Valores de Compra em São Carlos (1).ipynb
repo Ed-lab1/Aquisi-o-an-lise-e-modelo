{
 "cells": [
  {
   "cell_type": "code",
   "execution_count": null,
   "metadata": {},
   "outputs": [],
   "source": [
    "import requests\n",
    "from bs4 import BeautifulSoup"
   ]
  },
  {
   "cell_type": "code",
   "execution_count": null,
   "metadata": {},
   "outputs": [],
   "source": [
    "url = 'https://www.vivareal.com.br/venda/sp/sao-carlos/'"
   ]
  },
  {
   "cell_type": "code",
   "execution_count": null,
   "metadata": {},
   "outputs": [],
   "source": [
    "#https://www.vivareal.com.br/venda/sp/sao-carlos/\n",
    "#https://www.vivareal.com.br/venda/sp/sao-carlos/?pagina=2"
   ]
  },
  {
   "cell_type": "code",
   "execution_count": null,
   "metadata": {},
   "outputs": [],
   "source": [
    "paginas=['']\n",
    "for i in range(2,350):\n",
    "    a = \"?pagina=\"+str(i)\n",
    "    print(a)\n",
    "    paginas.append(a)"
   ]
  },
  {
   "cell_type": "code",
   "execution_count": null,
   "metadata": {},
   "outputs": [],
   "source": [
    "c = requests.get(url).content\n",
    "soup = BeautifulSoup(c)"
   ]
  },
  {
   "cell_type": "code",
   "execution_count": null,
   "metadata": {},
   "outputs": [],
   "source": [
    "vaga_tag = soup.find_all('span',{'class': 'property-card__detail-value js-property-card-value'})\n"
   ]
  },
  {
   "cell_type": "code",
   "execution_count": null,
   "metadata": {},
   "outputs": [],
   "source": [
    "preco_tag = soup.find_all('div', {'class':'property-card__price js-property-card-prices js-property-card__price-small'}) \n",
    "\n",
    "         \n"
   ]
  },
  {
   "cell_type": "code",
   "execution_count": null,
   "metadata": {},
   "outputs": [],
   "source": [
    "len(preco_tag)"
   ]
  },
  {
   "cell_type": "code",
   "execution_count": null,
   "metadata": {},
   "outputs": [],
   "source": [
    "banheiros_tag = soup.find_all('span', {'class':'property-card__detail-value js-property-card-value'}) \n"
   ]
  },
  {
   "cell_type": "code",
   "execution_count": null,
   "metadata": {},
   "outputs": [],
   "source": [
    " titulo_tag =  soup.find_all('li', {'class':'property-card__title js-cardLink js-card-title'}) "
   ]
  },
  {
   "cell_type": "code",
   "execution_count": null,
   "metadata": {
    "scrolled": true
   },
   "outputs": [],
   "source": [
    "len(titulo_tag)\n"
   ]
  },
  {
   "cell_type": "code",
   "execution_count": null,
   "metadata": {},
   "outputs": [],
   "source": [
    "def scrap(url):\n",
    "    c = requests.get(url).content\n",
    "    soup = BeautifulSoup(c)\n",
    "    \n",
    "    preco_tags = soup.find_all('div', {'class':'property-card__price js-property-card-prices js-property-card__price-small'})\n",
    "    preco_lista = [p.text for p in preco_tags]\n",
    "    \n",
    "    vaga_tag = soup.find_all('li', {'class':'property-card__detail-item property-card__detail-garage js-property-detail-garages'}) \n",
    "    vaga_lista = [v.text for v in vaga_tag] \n",
    "    \n",
    "    endereco_tag = soup.find_all('span', {'class':'property-card__address'}) \n",
    "    endereco_lista = [en.text for en in endereco_tag] \n",
    "    \n",
    "    quartos_tag =  soup.find_all('li', {'class':'property-card__detail-item property-card__detail-room js-property-detail-rooms'}) \n",
    "    quartos_lista = [q.text for q in quartos_tag ]\n",
    "    \n",
    "    banheiros_tag =  soup.find_all('li', {'class':'property-card__detail-item property-card__detail-bathroom js-property-detail-bathroom'}) \n",
    "    banheiros_lista = [b.text for b in banheiros_tag ]\n",
    "    \n",
    "    titulo_tag =  soup.find_all('span', {'class':'property-card__title js-cardLink js-card-title'}) \n",
    "    titulo_lista = [t.text for t in titulo_tag ]\n",
    "    \n",
    "    area_tag =  soup.find_all('li', {'class':'property-card__detail-item property-card__detail-area'}) \n",
    "    area_lista = [a.text for a in area_tag ]\n",
    "    \n",
    "    \n",
    "   \n",
    "    \n",
    " \n",
    "    \n",
    "    \n",
    "    \n",
    "    \n",
    "   \n",
    "    df=converter_df(preco_lista, vaga_lista, endereco_lista, quartos_lista, banheiros_lista, titulo_tag, area_lista)\n",
    "    \n",
    "    return df\n",
    "\n",
    "    "
   ]
  },
  {
   "cell_type": "code",
   "execution_count": null,
   "metadata": {},
   "outputs": [],
   "source": [
    "import pandas as pd\n",
    "def converter_df(preco_lista, vaga_lista, endereco_lista, quartos_lista, banheiros_lista, titulo_lista, area_lista):\n",
    "    data={'Preço': preco_lista,\n",
    "          'Estacionamento': vaga_lista,\n",
    "          'Endereço': endereco_lista, \n",
    "          'Quartos': quartos_lista,\n",
    "          'Banheiros': banheiros_lista,\n",
    "          'Titulo': titulo_lista,\n",
    "          'Area(m2)' : area_lista}\n",
    "    df = pd.DataFrame(data)\n",
    "    return df\n",
    "    "
   ]
  },
  {
   "cell_type": "code",
   "execution_count": null,
   "metadata": {},
   "outputs": [],
   "source": [
    "URL = 'https://www.vivareal.com.br/venda/sp/sao-carlos/{}'"
   ]
  },
  {
   "cell_type": "code",
   "execution_count": null,
   "metadata": {},
   "outputs": [],
   "source": [
    "df_lista = []\n",
    "for pg in paginas:\n",
    "    url = URL.format(pg)\n",
    "    print(url)\n",
    "    try:\n",
    "        df = scrap(url)\n",
    "    except Exception as e:\n",
    "        print('Erro ao coletar dados na url:' , url)\n",
    "        print(e)\n",
    "    df_lista.append(df)\n",
    "df_final = pd.concat(df_lista)"
   ]
  },
  {
   "cell_type": "code",
   "execution_count": null,
   "metadata": {},
   "outputs": [],
   "source": [
    "df_final.head(1)"
   ]
  },
  {
   "cell_type": "code",
   "execution_count": null,
   "metadata": {},
   "outputs": [],
   "source": [
    "df_final['bairro'] = df_final.Endereço.str.split('\\s-').str[1]\n",
    "df_final['rua'] = df_final.Endereço.str.split('\\s-').str[0]\n",
    "\n",
    "\n",
    "df_final.head()"
   ]
  },
  {
   "cell_type": "code",
   "execution_count": null,
   "metadata": {},
   "outputs": [],
   "source": [
    "df_final['bairro'] = df_final.Endereço.str.split('\\s-').str[1]\n",
    "\n",
    "\n",
    "\n",
    "df_final.head()"
   ]
  },
  {
   "cell_type": "code",
   "execution_count": null,
   "metadata": {},
   "outputs": [],
   "source": [
    "df_final.shape"
   ]
  },
  {
   "cell_type": "code",
   "execution_count": null,
   "metadata": {},
   "outputs": [],
   "source": [
    "df_final['Endereço'].nunique()"
   ]
  },
  {
   "cell_type": "code",
   "execution_count": null,
   "metadata": {},
   "outputs": [],
   "source": []
  }
 ],
 "metadata": {
  "kernelspec": {
   "display_name": "Python 3",
   "language": "python",
   "name": "python3"
  },
  "language_info": {
   "codemirror_mode": {
    "name": "ipython",
    "version": 3
   },
   "file_extension": ".py",
   "mimetype": "text/x-python",
   "name": "python",
   "nbconvert_exporter": "python",
   "pygments_lexer": "ipython3",
   "version": "3.8.5"
  }
 },
 "nbformat": 4,
 "nbformat_minor": 4
}
